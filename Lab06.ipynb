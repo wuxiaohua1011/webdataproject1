{
 "cells": [
  {
   "cell_type": "code",
   "execution_count": 1,
   "metadata": {
    "collapsed": true
   },
   "outputs": [],
   "source": [
    "from datascience import *\n",
    "import numpy as np   \n",
    "import matplotlib\n",
    "%matplotlib inline\n",
    "import matplotlib.pyplot as plots\n",
    "plots.style.use('fivethirtyeight')\n",
    "import warnings\n",
    "warnings.simplefilter('ignore', FutureWarning)"
   ]
  },
  {
   "cell_type": "markdown",
   "metadata": {},
   "source": [
    "### Distributions\n",
    "\n",
    "Two things make a distribution:\n",
    "- Set of possible __values / events__ (i.e. 1,2,3,4,5,6)\n",
    "- Set of __probabilities__ for those events (i.e. $\\frac{1}{6},\\frac{1}{6},\\frac{1}{6},\\frac{1}{6},\\frac{1}{6},\\frac{1}{6}$)\n",
    "\n",
    "The above example with a single dice roll is known commonly as the __uniform distribution__ since each event has equal probability. Another common distribution you will see in this class is the __normal distribution__."
   ]
  },
  {
   "cell_type": "code",
   "execution_count": 2,
   "metadata": {},
   "outputs": [
    {
     "data": {
      "image/png": "[encoded data removed]",
      "text/plain": [
       "<matplotlib.figure.Figure at 0x1041f5fd0>"
      ]
     },
     "metadata": {},
     "output_type": "display_data"
    }
   ],
   "source": [
    "# You don't need to undersand this code\n",
    "from scipy.stats import norm\n",
    "r = np.arange(-4, 4, 0.001)\n",
    "plots.plot(r, norm.pdf(r, 0, 1));"
   ]
  },
  {
   "cell_type": "markdown",
   "metadata": {},
   "source": [
    "#### Discrete v. Continuous (not important)\n",
    "\n",
    "- Discrete: Can you count the numbers, however long it would take (i.e. integers from 1 to infinity)\n",
    "- Continuous: You can't count the numbers (i.e. all decimals between 0 and 1)\n",
    "\n",
    "This distinction is not very important in this class, but worth knowing."
   ]
  },
  {
   "cell_type": "markdown",
   "metadata": {},
   "source": [
    "#### Empirical v. Probability (*very* important)\n",
    "\n",
    "\"empiric\" = someone who relies solely on observation and experiment, NOT theory\n",
    "\n",
    "- *Empirical Distribution*: what you observe __in real life / practice__ (i.e. you actually roll and count)\n",
    "    - Distribution of a sample\n",
    "    - Distribution of a simulation\n",
    "    \n",
    "\n",
    "- *Probability Distribution*: what you think will happen __in theory__ (i.e. uniform distribution) or the actual data of a __population__ (NOT sample)\n",
    "    - Distribution of a population\n",
    "    - Distrubtions in theory or what you expect\n",
    "    \n",
    "    \n",
    "__BIG IDEA__: Law of Averages\n",
    "\n",
    "Empirical Distributions $\\to$ Probability Distributions __as the sample size / number of trials increases__\n",
    "\n",
    "When you make your first three rolls, you might get three or less random numbers between 1 and 6. But over time, you would expect that each face appears just as often as the other. In other words, you expect the empirical distribution to approach the uniform distribution, which is the probability distribution of 1 dice roll."
   ]
  },
  {
   "cell_type": "code",
   "execution_count": 74,
   "metadata": {},
   "outputs": [
    {
     "data": {
      "image/png": "[encoded data removed]",
      "text/plain": [
       "<matplotlib.figure.Figure at 0x109c11898>"
      ]
     },
     "metadata": {},
     "output_type": "display_data"
    }
   ],
   "source": [
    "# Notice with large enough reps and num_rolls, this looks roughly normal!\n",
    "\n",
    "NUM_ROLLS = 10\n",
    "REPS = 10000\n",
    "POPULATION = np.arange(1, 7)\n",
    "sums = make_array()\n",
    "for i in np.arange(REPS):\n",
    "    sample = np.random.choice(POPULATION, size=NUM_ROLLS, replace=True)\n",
    "    sums = np.append(sums, sum(sample))\n",
    "tbl = Table().with_column(\"Sums of \" + str(NUM_ROLLS) + \" dice rolls\", sums)\n",
    "tbl.hist(bins=np.arange(1*NUM_ROLLS, 8*NUM_ROLLS, 1))\n"
   ]
  },
  {
   "cell_type": "markdown",
   "metadata": {
    "collapsed": true
   },
   "source": [
    "### Parameters, Statistics, and Parameter Estimation\n",
    "\n",
    "- Parameter: Any value that can be calculated from a __population__\n",
    "- Statistic: Any value that can be calculated from a particular __sample__ of a population\n",
    "- Parameter Estimation\n",
    "\n",
    "    Large enough sample $\\overset{\\text{L.O.A.}}{\\sim}$ population \n",
    "\n",
    "    $\\implies$ *Statistic* of large enough sample $\\overset{\\text{L.O.A.}}{\\sim}$ *Parameter* of population"
   ]
  },
  {
   "cell_type": "markdown",
   "metadata": {},
   "source": [
    "#### MOST COMMON MISTAKE:\n",
    "\n",
    "Distribution of Sample $\\neq$ Distribution of Sample Statistic\n",
    "\n",
    "Distribution of Population $\\neq$ Distribution of Population Parameter\n",
    "\n",
    "When you simulate, you come up with an empirical distribution of the statistic you want, which looks like the probability distribution of the statistic you want. \n",
    "\n",
    "- Sometimes, these can seem like they are the same\n",
    "\n",
    "    Distribution of the sum of one dice roll = Distribution of dice rolls\n",
    "\n",
    "\n",
    "- Most of the time, they are different\n",
    "\n",
    "    Distribution of sum of 10 dice rolls $\\neq$ Distribution of dice rolls\n",
    "    \n",
    "This will especially be important when we get into the *Central Limit Theorem*, later on in this course."
   ]
  },
  {
   "cell_type": "markdown",
   "metadata": {},
   "source": [
    "#### Bias-Variance Tradeoff\n",
    "\n",
    "- Bias-Heavy Statistics: \n",
    "    1) tend to either always overestimate or always underestimate (bias)\n",
    "    2) More precise (smaller range of values)\n",
    "    \n",
    "- Variance-Heavy Statistics:\n",
    "    1) tend to evenly estimate with high accuracy\n",
    "    2) Less precise (larger range of values)\n",
    "    \n",
    "The precise reason why you would pick one or the other really depends on what the problem is and what statistics you have in mind. It also depends a lot on your own assumptions. However, you should be able to do is analyze whether a given statistic is more variance-heavy or more bias-heavy."
   ]
  },
  {
   "cell_type": "markdown",
   "metadata": {},
   "source": [
    "#### Total Variation Distance (CATEGORICAL STATISTIC)\n",
    "\n",
    "Let `x_model` and `x_actual` be numpy arrays representing the __proportions__ of particular __categories__ within a population. Therefore, both represent __categorical data__.\n",
    "\n",
    "The total variation distance is defined as:\n",
    "\n",
    "`sum(abs(x_model - x_actual)) / 2`\n",
    "\n",
    "For example, let's say you roll a dice 100 times and always get 6. Let's say you want to compute the total variation distance between your results and the expected results (uniform). Then:\n",
    "\n",
    "`x_actual = make_array(0, 0, 0, 0, 0, 1)`\n",
    "\n",
    "`x_model = make_array(1/6, 1/6, 1/6, 1/6, 1/6, 1/6)`\n",
    "\n",
    "`>>> sum(abs(x_model - x_actual)) / 2`\n",
    "\n",
    "`5/6`\n",
    "\n",
    "__Very Technical Note__: For those of you interested in what the TVD really means, it mathematically boils down to the largest distance between two probabilities assigned to the same event (i.e. in the above case, our largest distance is $1 - \\frac{1}{6} = \\frac{5}{6} =$ TVD). Why we use this is extremely out of scope."
   ]
  },
  {
   "cell_type": "markdown",
   "metadata": {},
   "source": [
    "### (General) Hypothesis Testing\n",
    "\n",
    "Based on a particular __model__ (i.e. our coin produces 50% heads and 50% tails, 2% of voters support our current president, 80% of students despise the new CalCentral, etc.)\n",
    "\n",
    "- Fundamental Question: Does our model make sense, given our observation (observed stat.)?\n",
    "- Fundamental Assumption: If our data is __extremely unlikely__ to come from our model (in the top [p-value cutoff]% of extreme values, i.e. 5%), we assume our model is __incorrect__ (reject null). If not, we have __no idea__ whether our model makes sense or not (fail to reject null).\n",
    "\n",
    "Important notes:\n",
    "- We __fail to reject the null__, NOT accept the alternative\n",
    "- Just because our observed statistic is among the most extreme values doesn't mean that our data could not have come from our model\n",
    "    If I flipped 10 coins and got 10 heads, it's possible the coin could still be fair (since there's some probability of that happening) but the proportion of times that would happen is equal to our p-value cutoff. This is why the p-value cutoff is __the chance of a false positive__ (we say we reject when we shouldn't have)."
   ]
  },
  {
   "cell_type": "markdown",
   "metadata": {},
   "source": [
    "#### Steps to Hypothesis Testing\n",
    "\n",
    "0) See if the question asks for __distance__ or __direction__ (based on your belief)\n",
    "\n",
    "    Distance: The coin is not fair.\n",
    "    \n",
    "    Direction: The coin produces more heads / more tails\n",
    "\n",
    "1) State your hypotheses\n",
    "\n",
    "    Null: There is nothing wrong with our model. Everything is due to random chance.\n",
    "    \n",
    "    Alt: Depends on distance v. direction\n",
    "\n",
    "2) Figure out what your statistic should be\n",
    "\n",
    "    Categorical: TVD\n",
    "    \n",
    "    Numerical: Pick a relevant one. If distance, do abs(stat - mean(stat)).\n",
    "\n",
    "3) Generate the null distribution (prob. dist. of stat. under null hyp.)\n",
    "\n",
    "    Other classes: assume normal (since they don't have computers!)\n",
    "    \n",
    "    This class: simulate! (see example below copied from above)\n",
    "\n",
    "4) Make a conclusion\n",
    "\n",
    "    Calculate your p-value:\n",
    "    \n",
    "    np.count_nonzero(stats >= observed_stats) / len(stats)\n",
    "    \n",
    "    If it is greater than the p-value cutoff, then fail to reject.\n",
    "    \n",
    "    If it is less than the p-value cutoff, then reject.\n",
    "    \n",
    "    Make sure to add context to your conclusion!"
   ]
  },
  {
   "cell_type": "code",
   "execution_count": 91,
   "metadata": {},
   "outputs": [
    {
     "data": {
      "image/png": "[encoded data removed]",
      "text/plain": [
       "<matplotlib.figure.Figure at 0x10adc6be0>"
      ]
     },
     "metadata": {},
     "output_type": "display_data"
    }
   ],
   "source": [
    "# Notice with large enough reps and num_rolls, this looks roughly normal!\n",
    "\n",
    "NUM_ROLLS = 100\n",
    "REPS = 10000\n",
    "POPULATION = make_array(0,1)\n",
    "sums = make_array()\n",
    "for i in np.arange(REPS):\n",
    "    sample = np.random.choice(POPULATION, size=NUM_ROLLS, replace=True)\n",
    "    sums = np.append(sums, sum(sample))\n",
    "tbl = Table().with_column(\"# of heads in \" + str(NUM_ROLLS) + \" coin tosses\", sums)\n",
    "tbl.hist(bins=np.arange(0*NUM_ROLLS, 1*NUM_ROLLS))"
   ]
  },
  {
   "cell_type": "code",
   "execution_count": 93,
   "metadata": {},
   "outputs": [
    {
     "data": {
      "text/plain": [
       "0.0"
      ]
     },
     "execution_count": 93,
     "metadata": {},
     "output_type": "execute_result"
    }
   ],
   "source": [
    "observed_stat = 10\n",
    "p_value = np.count_nonzero(sums <= observed_stat) / len(sums)\n",
    "p_value"
   ]
  },
  {
   "cell_type": "code",
   "execution_count": null,
   "metadata": {
    "collapsed": true
   },
   "outputs": [],
   "source": []
  }
 ],
 "metadata": {
  "anaconda-cloud": {},
  "kernelspec": {
   "display_name": "Python 3",
   "language": "python",
   "name": "python3"
  },
  "language_info": {
   "codemirror_mode": {
    "name": "ipython",
    "version": 3
   },
   "file_extension": ".py",
   "mimetype": "text/x-python",
   "name": "python",
   "nbconvert_exporter": "python",
   "pygments_lexer": "ipython3",
   "version": "3.6.1"
  }
 },
 "nbformat": 4,
 "nbformat_minor": 1
}
